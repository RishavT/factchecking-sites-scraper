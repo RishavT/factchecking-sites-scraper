{
 "cells": [
  {
   "cell_type": "code",
   "execution_count": 8,
   "metadata": {},
   "outputs": [],
   "source": [
    "import numpy as np\n",
    "import matplotlib.pyplot as plt\n",
    "%matplotlib inline\n",
    "from PIL import Image\n",
    "from transforms import imageTransforms\n",
    "from search import ImageSearch\n",
    "from analyzer import img2vec, image_from_url"
   ]
  },
  {
   "cell_type": "markdown",
   "metadata": {},
   "source": [
    "#### ref: https://github.com/WillKoehrsen/Data-Analysis/blob/master/widgets/Widgets-Overview.ipynb"
   ]
  },
  {
   "cell_type": "code",
   "execution_count": 4,
   "metadata": {},
   "outputs": [],
   "source": [
    "# maximizing plot windows: https://stackoverflow.com/a/22418354/3543635\n",
    "# plt.switch_backend('TkAgg')"
   ]
  },
  {
   "cell_type": "code",
   "execution_count": 59,
   "metadata": {},
   "outputs": [],
   "source": [
    "from ipywidgets import Dropdown, interact, interact_manual, FloatSlider"
   ]
  },
  {
   "cell_type": "code",
   "execution_count": 12,
   "metadata": {},
   "outputs": [],
   "source": [
    "db_type = 'testing'\n",
    "images = [(1, 'https://picsum.photos/id/448/1024/768')]\n",
    "imageSearch = ImageSearch(db_type, images)\n",
    "imageSearch.thresh = 20  # to pass the following tests\n",
    "\n",
    "assert(len(imageSearch.vecs) > 0)"
   ]
  },
  {
   "cell_type": "code",
   "execution_count": 88,
   "metadata": {},
   "outputs": [],
   "source": [
    "transforms = {'None': (0, 0), 'crop': (0, 0.5), 'rotate': (0, 0), 'invert': (0, 0), 'mirror': (0, 0), 'BLUR': (0, 0), \n",
    "              'CONTOUR': (0, 0), 'DETAIL': (0, 0), 'EDGE_ENHANCE': (0, 0), 'EDGE_ENHANCE_MORE': (0, 0), 'EMBOSS': (0, 0), \n",
    "              'FIND_EDGES': (0, 0), 'SMOOTH': (0, 0), 'SMOOTH_MORE': (0, 0), 'SHARPEN': (0, 0), 'GaussianBlur': (0, 2), \n",
    "              'UnsharpMask': (0, 0), 'MedianFilter': (0, 0), 'MinFilter': (0, 0), 'MaxFilter': (0, 0), 'ModeFilter': (0, 0)}\n",
    "tf = 'None'"
   ]
  },
  {
   "cell_type": "code",
   "execution_count": 21,
   "metadata": {},
   "outputs": [],
   "source": [
    "i = 1\n",
    "image_url = images[0][1]"
   ]
  },
  {
   "cell_type": "code",
   "execution_count": 102,
   "metadata": {},
   "outputs": [],
   "source": [
    "def get_transform(image, tf, param):\n",
    "    imageTransformed = imageTransforms(image, type=tf, param=param)\n",
    "    imageTransformedVec = img2vec(imageTransformed, type='image')\n",
    "\n",
    "    ret = imageSearch.search(imageTransformedVec)            \n",
    "    print(f'{i}=>{ret[0]}, {tf}: {ret[1]}')\n",
    "\n",
    "    if ret[0] is not None:\n",
    "        ret_image = image_from_url(images[ret[0]-1][1])['image']\n",
    "    else:\n",
    "        ret_image = None\n",
    "    \n",
    "    return imageTransformed, ret_image, ret\n",
    "    \n",
    "def plot_transforms(image, imageTransformed, ret_image, ret, tf):\n",
    "    f, ax = plt.subplots(nrows=3, ncols=1, figsize=(10, 20))\n",
    "    f.tight_layout()\n",
    "    \n",
    "    ax[0].imshow(image)\n",
    "    ax[0].set_title('original image')\n",
    "    ax[1].imshow(imageTransformed)\n",
    "    ax[1].set_title(f'{tf} image')\n",
    "    if ret_image is not None:\n",
    "        ax[2].imshow(ret_image)\n",
    "        ax[2].set_title(f'similar image: {ret[1]:.2f}')"
   ]
  },
  {
   "cell_type": "code",
   "execution_count": 103,
   "metadata": {},
   "outputs": [],
   "source": [
    "image = image_from_url(image_url)['image']"
   ]
  },
  {
   "cell_type": "code",
   "execution_count": 104,
   "metadata": {},
   "outputs": [],
   "source": [
    "transformDropdown = Dropdown(\n",
    "    options=list(transforms.keys()),\n",
    "    description='Transform: ',\n",
    "    value='None'\n",
    ")\n",
    "paramSlider = FloatSlider(\n",
    "    value=0,\n",
    "    min=transforms['None'][0],\n",
    "    max=transforms['None'][1],\n",
    "    description='Param: '\n",
    ")\n",
    "\n",
    "def on_update_transform_widget(*args):\n",
    "    paramSlider.min = transforms[transformDropdown.value][0]\n",
    "    paramSlider.max = transforms[transformDropdown.value][1]\n",
    "\n",
    "transformDropdown.observe(on_update_transform_widget, 'value')"
   ]
  },
  {
   "cell_type": "code",
   "execution_count": 106,
   "metadata": {},
   "outputs": [
    {
     "data": {
      "application/vnd.jupyter.widget-view+json": {
       "model_id": "89b5fd3fb60e422e9d22f5f0f4dd1d9e",
       "version_major": 2,
       "version_minor": 0
      },
      "text/plain": [
       "interactive(children=(Dropdown(description='Transform: ', index=1, options=('None', 'crop', 'rotate', 'invert'…"
      ]
     },
     "metadata": {},
     "output_type": "display_data"
    },
    {
     "data": {
      "text/plain": [
       "<function __main__.do_the_interactive_thing(transformDropdown, paramSlider)>"
      ]
     },
     "execution_count": 106,
     "metadata": {},
     "output_type": "execute_result"
    }
   ],
   "source": [
    "# @interact\n",
    "def do_the_interactive_thing(transformDropdown, paramSlider):\n",
    "    imageTransformed, ret_image, ret = get_transform(image, transformDropdown, paramSlider)\n",
    "    plot_transforms(image, imageTransformed, ret_image, ret, tranformDropdown.value)\n",
    "    \n",
    "interact(do_the_interactive_thing, transformDropdown=transformDropdown, paramSlider=paramSlider)"
   ]
  },
  {
   "cell_type": "code",
   "execution_count": null,
   "metadata": {},
   "outputs": [],
   "source": []
  }
 ],
 "metadata": {
  "kernelspec": {
   "display_name": "Python 3",
   "language": "python",
   "name": "python3"
  },
  "language_info": {
   "codemirror_mode": {
    "name": "ipython",
    "version": 3
   },
   "file_extension": ".py",
   "mimetype": "text/x-python",
   "name": "python",
   "nbconvert_exporter": "python",
   "pygments_lexer": "ipython3",
   "version": "3.6.8"
  }
 },
 "nbformat": 4,
 "nbformat_minor": 2
}
